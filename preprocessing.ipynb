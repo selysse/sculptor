{
 "cells": [
  {
   "cell_type": "code",
   "execution_count": 2,
   "metadata": {},
   "outputs": [],
   "source": [
    "import cv2\n",
    "import numpy as np"
   ]
  },
  {
   "cell_type": "code",
   "execution_count": 4,
   "metadata": {},
   "outputs": [
    {
     "ename": "",
     "evalue": "",
     "output_type": "error",
     "traceback": [
      "\u001b[1;31mПри выполнении кода в текущей ячейке или предыдущей ячейке ядро аварийно завершило работу. \n",
      "\u001b[1;31mПроверьте код в ячейках, чтобы определить возможную причину сбоя. \n",
      "\u001b[1;31mЩелкните <a href='https://aka.ms/vscodeJupyterKernelCrash'>здесь</a>, чтобы получить дополнительные сведения. \n",
      "\u001b[1;31mПодробнее см. в <a href='command:jupyter.viewOutput'>журнале Jupyter</a>."
     ]
    }
   ],
   "source": [
    "# ресайзинг\n",
    "img = cv2.imread('images2/scale_1200.jpeg', cv2.IMREAD_COLOR)\n",
    "def resizing(img, new_width, new_height, interp=cv2.INTER_LINEAR):\n",
    "    if img is None:\n",
    "        print(\"Ошибка: изображение не найдено.\")\n",
    "    else:\n",
    "        resized_image = cv2.resize(img, (new_width, new_height), interp)\n",
    "        cv2.imshow('Original Image', img)\n",
    "        cv2.imshow('Resized Image', resized_image)\n",
    "        cv2.waitKey(0)\n",
    "        cv2.destroyAllWindows()\n",
    "    return img, resized_image\n",
    "result = resizing(img, 500, 600, interp=cv2.INTER_LINEAR)"
   ]
  },
  {
   "cell_type": "code",
   "execution_count": 2,
   "metadata": {},
   "outputs": [],
   "source": [
    "# gaussian_bluring()\n",
    "import cv2\n",
    "import numpy as np\n",
    "def gaussian_blurring():\n",
    "    image = cv2.imread('images2/000.jpg')\n",
    "    img_blur_3 = cv2.GaussianBlur(image, (3, 3), 0)\n",
    "    img_blur_7 = cv2.GaussianBlur(image, (7, 7), 0)\n",
    "    img_blur_11 = cv2.GaussianBlur(image, (11, 11), 0)\n",
    "    cv2.imshow('Original Image', image)\n",
    "    \n",
    "    cv2.imshow('Original Image2', img_blur_11)\n",
    "    cv2.waitKey(0)\n",
    "    return image, img_blur_3, img_blur_7, img_blur_11\n",
    "result = gaussian_blurring()"
   ]
  },
  {
   "cell_type": "code",
   "execution_count": 7,
   "metadata": {},
   "outputs": [],
   "source": [
    "import cv2\n",
    "import numpy as np\n",
    "\n",
    "# image = cv2.imread('images2/000.jpg')\n",
    "# mask = np.zeros(image.shape[:2], dtype=np.uint8)\n",
    "# x, y, w, h = 100, 100, 200, 200 \n",
    "# cv2.rectangle(mask, (x, y), (x + w, y + h), 255, -1) \n",
    "# masked_image = cv2.bitwise_and(image, image, mask=mask) #применяю маску к изображению\n",
    "# cv2.imshow('Mask', mask)\n",
    "# cv2.imshow('Masked Image', masked_image)\n",
    "\n",
    "def find_contours_of_bottle():\n",
    "    image = cv2.imread('images2/000.jpg', cv2.IMREAD_GRAYSCALE)\n",
    "    blurred = cv2.GaussianBlur(image, (3, 3), 0)\n",
    "    cv2.imshow('img', blurred)\n",
    "    cv2.waitKey(0)\n",
    "    cv2.destroyAllWindows()\n",
    "    return blurred\n",
    "\n",
    "result = find_contours_of_bottle()\n",
    "\n",
    "\n",
    "\n",
    "\n",
    "\n"
   ]
  },
  {
   "cell_type": "code",
   "execution_count": 6,
   "metadata": {},
   "outputs": [],
   "source": [
    "# создание масок\n",
    "import numpy as np\n",
    "import cv2\n",
    "\n",
    "mask = np.zeros((300, 300), dtype = \"uint8\")\n",
    "\n",
    "recta = cv2.rectangle(mask, (50, 250), (150, 150), 255, -1)\n",
    "cv2.rectangle(mask, (150, 150), (250, 50), 255, -1)\n",
    "cv2.circle(mask, (75, 75), 50, 255, -1)\n",
    "cv2.circle(mask, (225, 225), 50, 255, -1)\n",
    "\n",
    "img = cv2.imread('images2/scale_1200.jpeg')\n",
    "img = cv2.resize(img,(300,300),cv2.INTER_AREA)\n",
    "\n",
    "bitwiseAnd = cv2.bitwise_and(img,img,mask=mask)\n",
    "\n",
    "cv2.imshow(\"Masked image\",recta)\n",
    "cv2.waitKey(0)\n",
    "cv2.destroyAllWindows()"
   ]
  }
 ],
 "metadata": {
  "kernelspec": {
   "display_name": "Python 3",
   "language": "python",
   "name": "python3"
  },
  "language_info": {
   "codemirror_mode": {
    "name": "ipython",
    "version": 3
   },
   "file_extension": ".py",
   "mimetype": "text/x-python",
   "name": "python",
   "nbconvert_exporter": "python",
   "pygments_lexer": "ipython3",
   "version": "3.11.9"
  }
 },
 "nbformat": 4,
 "nbformat_minor": 2
}
